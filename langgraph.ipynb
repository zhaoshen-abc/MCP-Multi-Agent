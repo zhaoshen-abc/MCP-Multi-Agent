{
 "cells": [
  {
   "cell_type": "code",
   "execution_count": 1,
   "metadata": {},
   "outputs": [
    {
     "name": "stdout",
     "output_type": "stream",
     "text": [
      "sk-ed712a74d2e548548c559417fef5cbd5\n"
     ]
    }
   ],
   "source": [
    "import os\n",
    "from dotenv import load_dotenv \n",
    "load_dotenv(override=True)\n",
    "\n",
    "DeepSeek_API_KEY = os.getenv(\"DEEPSEEK_API_KEY\")\n",
    "print(DeepSeek_API_KEY)  # 可以通过打印查看\n",
    "\n"
   ]
  },
  {
   "cell_type": "code",
   "execution_count": 2,
   "metadata": {},
   "outputs": [
    {
     "name": "stdout",
     "output_type": "stream",
     "text": [
      "你好！我是一个AI助手，专门设计来帮助你解答问题、提供信息或建议、协助完成各种任务。无论是学习、工作、生活上的疑问，还是需要创意灵感，我都会尽力提供清晰、有用的回答。  \n",
      "\n",
      "我的特点包括：  \n",
      "1. **知识广泛**：覆盖科技、历史、文化、健康等多个领域（但我的知识截止到2023年，之后的事件可能无法提供准确信息）。  \n",
      "2. **多语言支持**：可以用中文、英文等多种语言交流。  \n",
      "3. **逻辑与创意兼备**：既能分析复杂问题，也能辅助写作、头脑风暴等。  \n",
      "4. **隐私保护**：你的对话内容不会被记录或滥用。  \n",
      "\n",
      "不过，我也有局限性，比如无法处理实时信息或亲身实践操作（比如替你做饭😄）。如果有任何需求，随时告诉我吧！  \n",
      "\n",
      "**你想了解哪方面的具体功能呢？**\n"
     ]
    }
   ],
   "source": [
    "from openai import OpenAI\n",
    "\n",
    "# 初始化DeepSeek的API客户端\n",
    "client = OpenAI(api_key=DeepSeek_API_KEY, base_url=\"https://api.deepseek.com\")\n",
    "\n",
    "# 调用DeepSeek的API，生成回答\n",
    "response = client.chat.completions.create(\n",
    "    model=\"deepseek-chat\",\n",
    "    messages=[\n",
    "        {\"role\": \"system\", \"content\": \"你是乐于助人的助手，请根据用户的问题给出回答\"},\n",
    "        {\"role\": \"user\", \"content\": \"你好，请你介绍一下你自己。\"},\n",
    "    ],\n",
    ")\n",
    "\n",
    "# 打印模型最终的响应结果\n",
    "print(response.choices[0].message.content)"
   ]
  },
  {
   "cell_type": "code",
   "execution_count": 3,
   "metadata": {},
   "outputs": [],
   "source": [
    "from langchain.chat_models import init_chat_model\n",
    "\n",
    "model = init_chat_model(model=\"deepseek-chat\", model_provider=\"deepseek\")  "
   ]
  },
  {
   "cell_type": "code",
   "execution_count": 4,
   "metadata": {},
   "outputs": [
    {
     "name": "stdout",
     "output_type": "stream",
     "text": [
      "你好！我是 **DeepSeek Chat**，由深度求索（DeepSeek）公司研发的智能 AI 助手。我的最新版本是 **DeepSeek-V3**，知识更新至 **2024 年 7 月**，具备强大的自然语言理解和生成能力，可以帮助你解答各种问题、提供信息、辅助创作、分析数据等。  \n",
      "\n",
      "### **我的特点：**  \n",
      "✅ **免费使用**：目前不收取任何费用，你可以随时向我提问！  \n",
      "✅ **大容量上下文支持**：我可以处理长达 **128K** 的上下文，适合长文档阅读和分析。  \n",
      "✅ **多文件处理**：支持上传 **PDF、Word、Excel、PPT、TXT** 等文件，并从中提取关键信息。  \n",
      "✅ **知识丰富**：覆盖科技、历史、文学、编程、金融等多个领域，能提供专业且准确的回答。  \n",
      "✅ **逻辑与创造力兼具**：既能帮你写代码、做数学题，也能辅助创作小说、诗歌、商业文案等。  \n",
      "✅ **中文优化**：对中文理解和表达进行了专门优化，交流更自然流畅。  \n",
      "\n",
      "### **我能帮你做什么？**  \n",
      "🔹 **学习 & 研究**：解答学术问题、总结论文、翻译外文资料  \n",
      "🔹 **工作 & 效率**：撰写邮件、生成报告、制作 Excel 公式、优化 PPT  \n",
      "🔹 **编程 & 技术**：代码调试、算法讲解、技术文档解读  \n",
      "🔹 **创作 & 娱乐**：写故事、编笑话、推荐电影/书籍  \n",
      "\n",
      "你可以随时向我提问，我会尽力提供最有价值的帮助！😊 有什么我可以帮你的吗？\n"
     ]
    }
   ],
   "source": [
    "question = \"你好，请你介绍一下你自己。\"\n",
    "\n",
    "result = model.invoke(question)\n",
    "print(result.content)"
   ]
  },
  {
   "cell_type": "code",
   "execution_count": 5,
   "metadata": {},
   "outputs": [
    {
     "name": "stdout",
     "output_type": "stream",
     "text": [
      "你好呀！👋我是 **DeepSeek-R1**，由中国的人工智能公司【深度求索】开发的一款智能助手。你可以把我当作一个知识丰富、热心又耐心的AI伙伴，随时为你解答问题、提供帮助～下面是我的小名片：\n",
      "\n",
      "---\n",
      "\n",
      "### 🌟 我是谁？\n",
      "- **身份**：纯文本推理大模型（目前还不支持语音、图片识别）\n",
      "- **知识截止**：2024年7月\n",
      "- **能力范围**：\n",
      "  - 解答各类知识问题（数理化、文史哲、编程、经济、法律等）\n",
      "  - 写作帮手（写作文、改简历、写报告、写小说）\n",
      "  - 编程助理（支持多种语言：Python、Java、C++、前端等）\n",
      "  - 文件处理（可上传 Word、PDF、Excel、PPT 等文件，我能提取内容帮你总结或分析）\n",
      "  - 生活助手（旅游攻略、美食推荐、学习计划、情感倾诉）\n",
      "\n",
      "---\n",
      "\n",
      "### 🧠 我的特点：\n",
      "✅ **超长记忆**：上下文最多支持 **128K 字符**，能记住很长的对话内容  \n",
      "✅ **逻辑推理强**：擅长数学题、逻辑题、代码调试等复杂任务  \n",
      "✅ **免费使用**（目前完全免费！🎉）  \n",
      "✅ **联网功能**（如果你在官网或App使用，我可以联网获取最新信息）  \n",
      "❌ **不支持语音和识图**（纯文字交流哦~）\n",
      "\n",
      "---\n",
      "\n",
      "### 💬 你可以这样用我：\n",
      "- “帮我写一封求职信”  \n",
      "- “解释一下量子力学的基础概念”  \n",
      "- “用Python写一个爬虫程序”  \n",
      "- “总结这篇PDF的核心观点”  \n",
      "- “2025年春节是几月几号？”  \n",
      "\n",
      "---\n",
      "\n",
      "无论你是学生、上班族、创作者，还是只是好奇来聊聊，我都在这儿等你提问！😊  \n",
      "现在，有什么我可以帮你的吗？✨\n"
     ]
    }
   ],
   "source": [
    "model = init_chat_model(model=\"deepseek-reasoner\", model_provider=\"deepseek\")  \n",
    "\n",
    "result = model.invoke(question)\n",
    "print(result.content)"
   ]
  },
  {
   "cell_type": "code",
   "execution_count": 6,
   "metadata": {},
   "outputs": [
    {
     "data": {
      "text/plain": [
       "{'refusal': None,\n",
       " 'reasoning_content': '嗯，用户让我介绍一下自己，这是个很常见的开场问题。用户可能是第一次接触我，想快速了解我的能力和边界，也可能是想测试我的表达能力。\\n\\n用户没有提供更多背景，但主动打招呼说明ta态度友好。这时候需要既全面又简洁地展示核心功能，避免信息过载。重点突出三方面：身份定位（不是人类）、能力范围（实用技能）、使用限制（避免误解）。\\n\\n特别要注意用轻松的语气消除距离感，所以加了表情符号和波浪号。提到“深度求索公司”是建立信任背书，说明“免费”能缓解用户对收费的担忧。最后用开放性问题引导对话，把主动权还给用户——毕竟自我介绍不是目的，帮ta解决问题才是。\\n\\n对了，提到文件处理功能时得强调“不上传服务器”，现在大家都很在意隐私。结尾那个小星星✨是临时加的，感觉用户可能会喜欢这种小俏皮？'}"
      ]
     },
     "execution_count": 6,
     "metadata": {},
     "output_type": "execute_result"
    }
   ],
   "source": [
    "result.additional_kwargs"
   ]
  },
  {
   "cell_type": "code",
   "execution_count": 7,
   "metadata": {},
   "outputs": [
    {
     "data": {
      "text/plain": [
       "True"
      ]
     },
     "execution_count": 7,
     "metadata": {},
     "output_type": "execute_result"
    }
   ],
   "source": [
    "import requests,json\n",
    "import os\n",
    "from dotenv import load_dotenv \n",
    "load_dotenv(override=True)"
   ]
  },
  {
   "cell_type": "code",
   "execution_count": 8,
   "metadata": {},
   "outputs": [],
   "source": [
    "def get_weather(loc):\n",
    "    \"\"\"\n",
    "    查询即时天气函数\n",
    "    :param loc: 必要参数，字符串类型，用于表示查询天气的具体城市名称，\\\n",
    "    注意，中国的城市需要用对应城市的英文名称代替，例如如果需要查询北京市天气，则loc参数需要输入'Beijing'；\n",
    "    :return：OpenWeather API查询即时天气的结果，具体URL请求地址为：https://api.openweathermap.org/data/2.5/weather\\\n",
    "    返回结果对象类型为解析之后的JSON格式对象，并用字符串形式进行表示，其中包含了全部重要的天气信息\n",
    "    \"\"\"\n",
    "    # Step 1.构建请求\n",
    "    url = \"https://api.openweathermap.org/data/2.5/weather\"\n",
    "\n",
    "    # Step 2.设置查询参数\n",
    "    params = {\n",
    "        \"q\": loc,               \n",
    "        \"appid\": os.getenv(\"OPENWEATHER_API_KEY\"),    # 输入API key\n",
    "        \"units\": \"metric\",            # 使用摄氏度而不是华氏度\n",
    "        \"lang\":\"zh_cn\"                # 输出语言为简体中文\n",
    "    }\n",
    "\n",
    "    # Step 3.发送GET请求\n",
    "    response = requests.get(url, params=params)\n",
    "    \n",
    "    # Step 4.解析响应\n",
    "    data = response.json()\n",
    "    return json.dumps(data)"
   ]
  },
  {
   "cell_type": "code",
   "execution_count": 9,
   "metadata": {},
   "outputs": [
    {
     "data": {
      "text/plain": [
       "'{\"coord\": {\"lon\": 116.3972, \"lat\": 39.9075}, \"weather\": [{\"id\": 800, \"main\": \"Clear\", \"description\": \"\\\\u6674\", \"icon\": \"01d\"}], \"base\": \"stations\", \"main\": {\"temp\": 31.63, \"feels_like\": 31.01, \"temp_min\": 31.63, \"temp_max\": 31.63, \"pressure\": 1001, \"humidity\": 35, \"sea_level\": 1001, \"grnd_level\": 996}, \"visibility\": 10000, \"wind\": {\"speed\": 2.61, \"deg\": 124, \"gust\": 2.62}, \"clouds\": {\"all\": 1}, \"dt\": 1753868133, \"sys\": {\"country\": \"CN\", \"sunrise\": 1753823449, \"sunset\": 1753875042}, \"timezone\": 28800, \"id\": 1816670, \"name\": \"Beijing\", \"cod\": 200}'"
      ]
     },
     "execution_count": 9,
     "metadata": {},
     "output_type": "execute_result"
    }
   ],
   "source": [
    "get_weather(\"Beijing\")"
   ]
  },
  {
   "cell_type": "code",
   "execution_count": 10,
   "metadata": {},
   "outputs": [],
   "source": [
    "from langchain_core.tools import tool\n",
    "from pydantic import BaseModel, Field\n",
    "\n",
    "class WeatherQuery(BaseModel):\n",
    "    loc: str = Field(description=\"The location name of the city\")\n",
    "\n",
    "@tool(args_schema = WeatherQuery)\n",
    "def get_weather(loc):\n",
    "    \"\"\"\n",
    "    查询即时天气函数\n",
    "    :param loc: 必要参数，字符串类型，用于表示查询天气的具体城市名称，\\\n",
    "    注意，中国的城市需要用对应城市的英文名称代替，例如如果需要查询北京市天气，则loc参数需要输入'Beijing'；\n",
    "    :return：OpenWeather API查询即时天气的结果，具体URL请求地址为：https://api.openweathermap.org/data/2.5/weather\\\n",
    "    返回结果对象类型为解析之后的JSON格式对象，并用字符串形式进行表示，其中包含了全部重要的天气信息\n",
    "    \"\"\"\n",
    "    # Step 1.构建请求\n",
    "    url = \"https://api.openweathermap.org/data/2.5/weather\"\n",
    "\n",
    "    # Step 2.设置查询参数\n",
    "    params = {\n",
    "        \"q\": loc,               \n",
    "        \"appid\": os.getenv(\"OPENWEATHER_API_KEY\"),    # 输入API key\n",
    "        \"units\": \"metric\",            # 使用摄氏度而不是华氏度\n",
    "        \"lang\":\"zh_cn\"                # 输出语言为简体中文\n",
    "    }\n",
    "\n",
    "    # Step 3.发送GET请求\n",
    "    response = requests.get(url, params=params)\n",
    "    \n",
    "    # Step 4.解析响应\n",
    "    data = response.json()\n",
    "    return json.dumps(data)"
   ]
  },
  {
   "cell_type": "code",
   "execution_count": 11,
   "metadata": {},
   "outputs": [
    {
     "name": "stdout",
     "output_type": "stream",
     "text": [
      "\n",
      "name: get_weather\n",
      "description: 查询即时天气函数\n",
      ":param loc: 必要参数，字符串类型，用于表示查询天气的具体城市名称，    注意，中国的城市需要用对应城市的英文名称代替，例如如果需要查询北京市天气，则loc参数需要输入'Beijing'；\n",
      ":return：OpenWeather API查询即时天气的结果，具体URL请求地址为：https://api.openweathermap.org/data/2.5/weather    返回结果对象类型为解析之后的JSON格式对象，并用字符串形式进行表示，其中包含了全部重要的天气信息\n",
      "arguments: {'loc': {'description': 'The location name of the city', 'title': 'Loc', 'type': 'string'}}\n",
      "\n"
     ]
    }
   ],
   "source": [
    "print(f'''\n",
    "name: {get_weather.name}\n",
    "description: {get_weather.description}\n",
    "arguments: {get_weather.args}\n",
    "''')"
   ]
  },
  {
   "cell_type": "code",
   "execution_count": 12,
   "metadata": {},
   "outputs": [],
   "source": [
    "# 封装外部函数列表\n",
    "tools = [get_weather]"
   ]
  },
  {
   "cell_type": "code",
   "execution_count": 13,
   "metadata": {},
   "outputs": [],
   "source": [
    "from langchain.chat_models import init_chat_model\n",
    "\n",
    "model = init_chat_model(model=\"deepseek-chat\", model_provider=\"deepseek\")  "
   ]
  },
  {
   "cell_type": "code",
   "execution_count": 14,
   "metadata": {},
   "outputs": [
    {
     "data": {
      "text/plain": [
       "{'messages': [HumanMessage(content='你好，请介绍下你自己。', additional_kwargs={}, response_metadata={}, id='0adce403-b1ec-490b-9497-92c03bb11094'),\n",
       "  AIMessage(content='你好！我是一个智能助手，可以帮助你解答问题、提供信息、完成任务，或者只是陪你聊聊天。无论是学习、工作，还是生活中的各种需求，我都可以尽力协助你。  \\n\\n我的功能包括但不限于：  \\n- **信息查询**：天气、新闻、百科知识等。  \\n- **任务处理**：日程安排、提醒、计算、翻译等。  \\n- **学习辅助**：解答学习问题、提供学习资源等。  \\n- **娱乐互动**：讲笑话、推荐电影、音乐等。  \\n\\n如果你有任何问题或需要帮助，随时告诉我！ 😊', additional_kwargs={'refusal': None}, response_metadata={'token_usage': {'completion_tokens': 122, 'prompt_tokens': 223, 'total_tokens': 345, 'completion_tokens_details': None, 'prompt_tokens_details': {'audio_tokens': None, 'cached_tokens': 128}, 'prompt_cache_hit_tokens': 128, 'prompt_cache_miss_tokens': 95}, 'model_name': 'deepseek-chat', 'system_fingerprint': 'fp_8802369eaa_prod0623_fp8_kvcache', 'id': '473e36ca-1231-422b-8a17-5d2e36e18df8', 'service_tier': None, 'finish_reason': 'stop', 'logprobs': None}, id='run--0e08d5d7-eecb-4d88-80fe-554002b9494b-0', usage_metadata={'input_tokens': 223, 'output_tokens': 122, 'total_tokens': 345, 'input_token_details': {'cache_read': 128}, 'output_token_details': {}})]}"
      ]
     },
     "execution_count": 14,
     "metadata": {},
     "output_type": "execute_result"
    }
   ],
   "source": [
    "from langgraph.prebuilt import create_react_agent\n",
    "\n",
    "agent = create_react_agent(model=model, tools=tools)\n",
    "\n",
    "response = agent.invoke({\"messages\": [{\"role\": \"user\", \"content\": \"你好，请介绍下你自己。\"}]})\n",
    "\n",
    "response"
   ]
  },
  {
   "cell_type": "code",
   "execution_count": 15,
   "metadata": {},
   "outputs": [
    {
     "name": "stdout",
     "output_type": "stream",
     "text": [
      "北京今天的天气晴朗，气温为31.63°C，体感温度约为31.01°C。湿度为35%，风速为2.61米/秒，风向为124度。能见度良好，达到10000米。气压为1001 hPa。总体来说，今天是一个晴朗且温暖的天气。\n"
     ]
    }
   ],
   "source": [
    "response = agent.invoke({\"messages\": [{\"role\": \"user\", \"content\": \"请问北京今天天气如何？\"}]})\n",
    "print(response[\"messages\"][-1].content)"
   ]
  },
  {
   "cell_type": "code",
   "execution_count": 16,
   "metadata": {},
   "outputs": [
    {
     "data": {
      "text/plain": [
       "[HumanMessage(content='请问北京今天天气如何？', additional_kwargs={}, response_metadata={}, id='9b619e2f-bffc-484a-a5f3-b862bff8b8c1'),\n",
       " AIMessage(content='', additional_kwargs={'tool_calls': [{'id': 'call_0_5d8a0be2-bc0d-486a-ab81-409f60c5dae3', 'function': {'arguments': '{\"loc\":\"Beijing\"}', 'name': 'get_weather'}, 'type': 'function', 'index': 0}], 'refusal': None}, response_metadata={'token_usage': {'completion_tokens': 27, 'prompt_tokens': 222, 'total_tokens': 249, 'completion_tokens_details': None, 'prompt_tokens_details': {'audio_tokens': None, 'cached_tokens': 192}, 'prompt_cache_hit_tokens': 192, 'prompt_cache_miss_tokens': 30}, 'model_name': 'deepseek-chat', 'system_fingerprint': 'fp_8802369eaa_prod0623_fp8_kvcache', 'id': '612158d5-d02c-466e-8dfa-a673d2b35110', 'service_tier': None, 'finish_reason': 'tool_calls', 'logprobs': None}, id='run--01673ba4-e6a4-4e9b-bc0f-e1d7d2d12878-0', tool_calls=[{'name': 'get_weather', 'args': {'loc': 'Beijing'}, 'id': 'call_0_5d8a0be2-bc0d-486a-ab81-409f60c5dae3', 'type': 'tool_call'}], usage_metadata={'input_tokens': 222, 'output_tokens': 27, 'total_tokens': 249, 'input_token_details': {'cache_read': 192}, 'output_token_details': {}}),\n",
       " ToolMessage(content='{\"coord\": {\"lon\": 116.3972, \"lat\": 39.9075}, \"weather\": [{\"id\": 800, \"main\": \"Clear\", \"description\": \"\\\\u6674\", \"icon\": \"01d\"}], \"base\": \"stations\", \"main\": {\"temp\": 31.63, \"feels_like\": 31.01, \"temp_min\": 31.63, \"temp_max\": 31.63, \"pressure\": 1001, \"humidity\": 35, \"sea_level\": 1001, \"grnd_level\": 996}, \"visibility\": 10000, \"wind\": {\"speed\": 2.61, \"deg\": 124, \"gust\": 2.62}, \"clouds\": {\"all\": 1}, \"dt\": 1753868133, \"sys\": {\"country\": \"CN\", \"sunrise\": 1753823449, \"sunset\": 1753875042}, \"timezone\": 28800, \"id\": 1816670, \"name\": \"Beijing\", \"cod\": 200}', name='get_weather', id='d5a4e95c-f11b-4340-9a63-b8d59d1c7eaf', tool_call_id='call_0_5d8a0be2-bc0d-486a-ab81-409f60c5dae3'),\n",
       " AIMessage(content='北京今天的天气晴朗，气温为31.63°C，体感温度约为31.01°C。湿度为35%，风速为2.61米/秒，风向为124度。能见度良好，达到10000米。气压为1001 hPa。总体来说，今天是一个晴朗且温暖的天气。', additional_kwargs={'refusal': None}, response_metadata={'token_usage': {'completion_tokens': 66, 'prompt_tokens': 484, 'total_tokens': 550, 'completion_tokens_details': None, 'prompt_tokens_details': {'audio_tokens': None, 'cached_tokens': 192}, 'prompt_cache_hit_tokens': 192, 'prompt_cache_miss_tokens': 292}, 'model_name': 'deepseek-chat', 'system_fingerprint': 'fp_8802369eaa_prod0623_fp8_kvcache', 'id': '88bddf8c-9888-4be7-b6a0-20b3909e6179', 'service_tier': None, 'finish_reason': 'stop', 'logprobs': None}, id='run--60bc8817-00ab-4cd5-ab66-b88ade8bb9bf-0', usage_metadata={'input_tokens': 484, 'output_tokens': 66, 'total_tokens': 550, 'input_token_details': {'cache_read': 192}, 'output_token_details': {}})]"
      ]
     },
     "execution_count": 16,
     "metadata": {},
     "output_type": "execute_result"
    }
   ],
   "source": [
    "response['messages']"
   ]
  },
  {
   "cell_type": "code",
   "execution_count": 17,
   "metadata": {},
   "outputs": [],
   "source": [
    "response = agent.invoke({\"messages\": [{\"role\": \"user\", \"content\": \"请问北京和杭州今天哪里更热？\"}]})"
   ]
  },
  {
   "cell_type": "code",
   "execution_count": 18,
   "metadata": {},
   "outputs": [
    {
     "data": {
      "text/plain": [
       "{'messages': [HumanMessage(content='请问北京和杭州今天哪里更热？', additional_kwargs={}, response_metadata={}, id='26f33bde-e47c-48cd-81f6-922cbe994d0d'),\n",
       "  AIMessage(content='', additional_kwargs={'tool_calls': [{'id': 'call_0_f6b46952-c4c0-419c-86f4-0a9a00a3225a', 'function': {'arguments': '{\"loc\": \"Beijing\"}', 'name': 'get_weather'}, 'type': 'function', 'index': 0}, {'id': 'call_1_e6acd966-24c5-409a-8fbb-319eb7a2ca54', 'function': {'arguments': '{\"loc\": \"Hangzhou\"}', 'name': 'get_weather'}, 'type': 'function', 'index': 1}], 'refusal': None}, response_metadata={'token_usage': {'completion_tokens': 41, 'prompt_tokens': 225, 'total_tokens': 266, 'completion_tokens_details': None, 'prompt_tokens_details': {'audio_tokens': None, 'cached_tokens': 192}, 'prompt_cache_hit_tokens': 192, 'prompt_cache_miss_tokens': 33}, 'model_name': 'deepseek-chat', 'system_fingerprint': 'fp_8802369eaa_prod0623_fp8_kvcache', 'id': '3ca59559-f76e-4498-abea-a329a9242136', 'service_tier': None, 'finish_reason': 'tool_calls', 'logprobs': None}, id='run--1db3b92a-4728-458c-a496-7e9ec9192fd6-0', tool_calls=[{'name': 'get_weather', 'args': {'loc': 'Beijing'}, 'id': 'call_0_f6b46952-c4c0-419c-86f4-0a9a00a3225a', 'type': 'tool_call'}, {'name': 'get_weather', 'args': {'loc': 'Hangzhou'}, 'id': 'call_1_e6acd966-24c5-409a-8fbb-319eb7a2ca54', 'type': 'tool_call'}], usage_metadata={'input_tokens': 225, 'output_tokens': 41, 'total_tokens': 266, 'input_token_details': {'cache_read': 192}, 'output_token_details': {}}),\n",
       "  ToolMessage(content='{\"coord\": {\"lon\": 116.3972, \"lat\": 39.9075}, \"weather\": [{\"id\": 800, \"main\": \"Clear\", \"description\": \"\\\\u6674\", \"icon\": \"01d\"}], \"base\": \"stations\", \"main\": {\"temp\": 31.63, \"feels_like\": 31.01, \"temp_min\": 31.63, \"temp_max\": 31.63, \"pressure\": 1001, \"humidity\": 35, \"sea_level\": 1001, \"grnd_level\": 996}, \"visibility\": 10000, \"wind\": {\"speed\": 2.61, \"deg\": 124, \"gust\": 2.62}, \"clouds\": {\"all\": 1}, \"dt\": 1753868133, \"sys\": {\"country\": \"CN\", \"sunrise\": 1753823449, \"sunset\": 1753875042}, \"timezone\": 28800, \"id\": 1816670, \"name\": \"Beijing\", \"cod\": 200}', name='get_weather', id='d0d8e14f-3d03-4135-97e5-a8c601099d52', tool_call_id='call_0_f6b46952-c4c0-419c-86f4-0a9a00a3225a'),\n",
       "  ToolMessage(content='{\"coord\": {\"lon\": 120.1614, \"lat\": 30.2937}, \"weather\": [{\"id\": 804, \"main\": \"Clouds\", \"description\": \"\\\\u9634\\\\uff0c\\\\u591a\\\\u4e91\", \"icon\": \"04d\"}], \"base\": \"stations\", \"main\": {\"temp\": 25.8, \"feels_like\": 26.84, \"temp_min\": 25.8, \"temp_max\": 25.8, \"pressure\": 990, \"humidity\": 92, \"sea_level\": 990, \"grnd_level\": 988}, \"visibility\": 10000, \"wind\": {\"speed\": 9.01, \"deg\": 296, \"gust\": 17.79}, \"clouds\": {\"all\": 100}, \"dt\": 1753868588, \"sys\": {\"country\": \"CN\", \"sunrise\": 1753823781, \"sunset\": 1753872904}, \"timezone\": 28800, \"id\": 1808926, \"name\": \"Hangzhou\", \"cod\": 200}', name='get_weather', id='67fe61fe-7170-4286-946f-fe2b61e4252e', tool_call_id='call_1_e6acd966-24c5-409a-8fbb-319eb7a2ca54'),\n",
       "  AIMessage(content='根据当前的天气数据：\\n\\n- **北京**：温度为 **31.63°C**，天气晴朗，体感温度为 **31.01°C**，湿度为 **35%**。\\n- **杭州**：温度为 **25.8°C**，天气多云，体感温度为 **26.84°C**，湿度为 **92%**。\\n\\n**结论**：北京比杭州更热，温度高出约 **5.8°C**。', additional_kwargs={'refusal': None}, response_metadata={'token_usage': {'completion_tokens': 96, 'prompt_tokens': 760, 'total_tokens': 856, 'completion_tokens_details': None, 'prompt_tokens_details': {'audio_tokens': None, 'cached_tokens': 256}, 'prompt_cache_hit_tokens': 256, 'prompt_cache_miss_tokens': 504}, 'model_name': 'deepseek-chat', 'system_fingerprint': 'fp_8802369eaa_prod0623_fp8_kvcache', 'id': '2e2933cc-deda-40b1-a0f1-acbb0f52b355', 'service_tier': None, 'finish_reason': 'stop', 'logprobs': None}, id='run--ab424ef1-ccf1-4f58-a3bf-2568935ebd78-0', usage_metadata={'input_tokens': 760, 'output_tokens': 96, 'total_tokens': 856, 'input_token_details': {'cache_read': 256}, 'output_token_details': {}})]}"
      ]
     },
     "execution_count": 18,
     "metadata": {},
     "output_type": "execute_result"
    }
   ],
   "source": [
    "response"
   ]
  },
  {
   "cell_type": "code",
   "execution_count": 19,
   "metadata": {},
   "outputs": [],
   "source": [
    "from langchain_core.tools import tool\n",
    "from pydantic import BaseModel, Field\n",
    "\n",
    "class Write_Query(BaseModel):\n",
    "    content: str = Field(description=\"需要写入文档的具体内容\")\n",
    "\n",
    "@tool(args_schema = Write_Query)\n",
    "def write_file(content: str) -> str:\n",
    "    \"\"\"\n",
    "    将指定内容写入本地文件。\n",
    "    :param content: 必要参数，字符串类型，用于表示需要写入文档的具体内容。\n",
    "    :return：是否成功写入\n",
    "    \"\"\"\n",
    "    return \"已成功写入本地文件。\""
   ]
  },
  {
   "cell_type": "code",
   "execution_count": 20,
   "metadata": {},
   "outputs": [],
   "source": [
    "# 封装外部函数列表\n",
    "tools = [get_weather, write_file]"
   ]
  },
  {
   "cell_type": "code",
   "execution_count": 21,
   "metadata": {},
   "outputs": [],
   "source": [
    "agent = create_react_agent(model=model, tools=tools)"
   ]
  },
  {
   "cell_type": "code",
   "execution_count": 22,
   "metadata": {},
   "outputs": [],
   "source": [
    "response = agent.invoke({\"messages\": [{\"role\": \"user\", \"content\": \"你好，请帮我查询北京和杭州的天气，并将其写入本地文件中。\"}]})"
   ]
  },
  {
   "cell_type": "code",
   "execution_count": 23,
   "metadata": {},
   "outputs": [
    {
     "name": "stdout",
     "output_type": "stream",
     "text": [
      "已成功将北京和杭州的天气信息写入本地文件中。内容如下：\n",
      "\n",
      "- 北京天气：晴，温度31.63°C，湿度35%，风速2.61m/s。\n",
      "- 杭州天气：阴，多云，温度25.8°C，湿度92%，风速9.01m/s。\n"
     ]
    }
   ],
   "source": [
    "print(response[\"messages\"][-1].content)"
   ]
  },
  {
   "cell_type": "code",
   "execution_count": 24,
   "metadata": {},
   "outputs": [
    {
     "data": {
      "text/plain": [
       "7"
      ]
     },
     "execution_count": 24,
     "metadata": {},
     "output_type": "execute_result"
    }
   ],
   "source": [
    "len(response['messages'])"
   ]
  },
  {
   "cell_type": "code",
   "execution_count": 25,
   "metadata": {},
   "outputs": [
    {
     "data": {
      "text/plain": [
       "[HumanMessage(content='你好，请帮我查询北京和杭州的天气，并将其写入本地文件中。', additional_kwargs={}, response_metadata={}, id='1c9c0487-6420-4687-9ad5-9d6df310429c'),\n",
       " AIMessage(content='', additional_kwargs={'tool_calls': [{'id': 'call_0_c0472fef-9955-450a-a0f1-5b182942c476', 'function': {'arguments': '{\"loc\": \"Beijing\"}', 'name': 'get_weather'}, 'type': 'function', 'index': 0}, {'id': 'call_1_72ac81e7-598e-47e9-bf82-bcb7365c8e12', 'function': {'arguments': '{\"loc\": \"Hangzhou\"}', 'name': 'get_weather'}, 'type': 'function', 'index': 1}], 'refusal': None}, response_metadata={'token_usage': {'completion_tokens': 41, 'prompt_tokens': 351, 'total_tokens': 392, 'completion_tokens_details': None, 'prompt_tokens_details': {'audio_tokens': None, 'cached_tokens': 192}, 'prompt_cache_hit_tokens': 192, 'prompt_cache_miss_tokens': 159}, 'model_name': 'deepseek-chat', 'system_fingerprint': 'fp_8802369eaa_prod0623_fp8_kvcache', 'id': '22de3943-fda5-499e-b114-ba5f219aa8df', 'service_tier': None, 'finish_reason': 'tool_calls', 'logprobs': None}, id='run--059bdb4c-b7fa-448b-8a70-bd9179983d39-0', tool_calls=[{'name': 'get_weather', 'args': {'loc': 'Beijing'}, 'id': 'call_0_c0472fef-9955-450a-a0f1-5b182942c476', 'type': 'tool_call'}, {'name': 'get_weather', 'args': {'loc': 'Hangzhou'}, 'id': 'call_1_72ac81e7-598e-47e9-bf82-bcb7365c8e12', 'type': 'tool_call'}], usage_metadata={'input_tokens': 351, 'output_tokens': 41, 'total_tokens': 392, 'input_token_details': {'cache_read': 192}, 'output_token_details': {}}),\n",
       " ToolMessage(content='{\"coord\": {\"lon\": 116.3972, \"lat\": 39.9075}, \"weather\": [{\"id\": 800, \"main\": \"Clear\", \"description\": \"\\\\u6674\", \"icon\": \"01d\"}], \"base\": \"stations\", \"main\": {\"temp\": 31.63, \"feels_like\": 31.01, \"temp_min\": 31.63, \"temp_max\": 31.63, \"pressure\": 1001, \"humidity\": 35, \"sea_level\": 1001, \"grnd_level\": 996}, \"visibility\": 10000, \"wind\": {\"speed\": 2.61, \"deg\": 124, \"gust\": 2.62}, \"clouds\": {\"all\": 1}, \"dt\": 1753868456, \"sys\": {\"country\": \"CN\", \"sunrise\": 1753823449, \"sunset\": 1753875042}, \"timezone\": 28800, \"id\": 1816670, \"name\": \"Beijing\", \"cod\": 200}', name='get_weather', id='4e7c74e6-0232-4d94-a780-1ac36fca9a8f', tool_call_id='call_0_c0472fef-9955-450a-a0f1-5b182942c476'),\n",
       " ToolMessage(content='{\"coord\": {\"lon\": 120.1614, \"lat\": 30.2937}, \"weather\": [{\"id\": 804, \"main\": \"Clouds\", \"description\": \"\\\\u9634\\\\uff0c\\\\u591a\\\\u4e91\", \"icon\": \"04d\"}], \"base\": \"stations\", \"main\": {\"temp\": 25.8, \"feels_like\": 26.84, \"temp_min\": 25.8, \"temp_max\": 25.8, \"pressure\": 990, \"humidity\": 92, \"sea_level\": 990, \"grnd_level\": 988}, \"visibility\": 10000, \"wind\": {\"speed\": 9.01, \"deg\": 296, \"gust\": 17.79}, \"clouds\": {\"all\": 100}, \"dt\": 1753868588, \"sys\": {\"country\": \"CN\", \"sunrise\": 1753823781, \"sunset\": 1753872904}, \"timezone\": 28800, \"id\": 1808926, \"name\": \"Hangzhou\", \"cod\": 200}', name='get_weather', id='a1a8d548-15ab-47f7-b6ad-1aba048d35c6', tool_call_id='call_1_72ac81e7-598e-47e9-bf82-bcb7365c8e12'),\n",
       " AIMessage(content='', additional_kwargs={'tool_calls': [{'id': 'call_0_9308864f-aed4-4055-b58d-cc005cce7671', 'function': {'arguments': '{\"content\":\"北京天气：晴，温度31.63°C，湿度35%，风速2.61m/s。\\\\n杭州天气：阴，多云，温度25.8°C，湿度92%，风速9.01m/s。\"}', 'name': 'write_file'}, 'type': 'function', 'index': 0}], 'refusal': None}, response_metadata={'token_usage': {'completion_tokens': 65, 'prompt_tokens': 886, 'total_tokens': 951, 'completion_tokens_details': None, 'prompt_tokens_details': {'audio_tokens': None, 'cached_tokens': 384}, 'prompt_cache_hit_tokens': 384, 'prompt_cache_miss_tokens': 502}, 'model_name': 'deepseek-chat', 'system_fingerprint': 'fp_8802369eaa_prod0623_fp8_kvcache', 'id': '5d1eb2e8-8178-4ff3-908d-20e5f1c8e218', 'service_tier': None, 'finish_reason': 'tool_calls', 'logprobs': None}, id='run--e3a2f5fe-b492-4157-993c-5e7556394162-0', tool_calls=[{'name': 'write_file', 'args': {'content': '北京天气：晴，温度31.63°C，湿度35%，风速2.61m/s。\\n杭州天气：阴，多云，温度25.8°C，湿度92%，风速9.01m/s。'}, 'id': 'call_0_9308864f-aed4-4055-b58d-cc005cce7671', 'type': 'tool_call'}], usage_metadata={'input_tokens': 886, 'output_tokens': 65, 'total_tokens': 951, 'input_token_details': {'cache_read': 384}, 'output_token_details': {}}),\n",
       " ToolMessage(content='已成功写入本地文件。', name='write_file', id='d7b43989-d8b4-424b-969b-543a10235cf5', tool_call_id='call_0_9308864f-aed4-4055-b58d-cc005cce7671'),\n",
       " AIMessage(content='已成功将北京和杭州的天气信息写入本地文件中。内容如下：\\n\\n- 北京天气：晴，温度31.63°C，湿度35%，风速2.61m/s。\\n- 杭州天气：阴，多云，温度25.8°C，湿度92%，风速9.01m/s。', additional_kwargs={'refusal': None}, response_metadata={'token_usage': {'completion_tokens': 66, 'prompt_tokens': 1069, 'total_tokens': 1135, 'completion_tokens_details': None, 'prompt_tokens_details': {'audio_tokens': None, 'cached_tokens': 896}, 'prompt_cache_hit_tokens': 896, 'prompt_cache_miss_tokens': 173}, 'model_name': 'deepseek-chat', 'system_fingerprint': 'fp_8802369eaa_prod0623_fp8_kvcache', 'id': 'd7dd0a09-4160-4940-b65a-68a2934d3261', 'service_tier': None, 'finish_reason': 'stop', 'logprobs': None}, id='run--be9c1d17-071c-4c53-9ee3-5686d12f0296-0', usage_metadata={'input_tokens': 1069, 'output_tokens': 66, 'total_tokens': 1135, 'input_token_details': {'cache_read': 896}, 'output_token_details': {}})]"
      ]
     },
     "execution_count": 25,
     "metadata": {},
     "output_type": "execute_result"
    }
   ],
   "source": [
    "response['messages']"
   ]
  },
  {
   "cell_type": "code",
   "execution_count": 26,
   "metadata": {},
   "outputs": [],
   "source": [
    "from langgraph.checkpoint.memory import InMemorySaver\n",
    "\n",
    "checkpointer = InMemorySaver()\n",
    "\n",
    "tools = [get_weather]\n",
    "model = init_chat_model(model=\"deepseek-chat\", model_provider=\"deepseek\")  \n",
    "\n",
    "agent = create_react_agent(model=model, \n",
    "                           tools=tools,\n",
    "                           checkpointer=checkpointer)"
   ]
  },
  {
   "cell_type": "code",
   "execution_count": 28,
   "metadata": {},
   "outputs": [
    {
     "data": {
      "text/plain": [
       "[HumanMessage(content='你好，我叫陈明，好久不见！', additional_kwargs={}, response_metadata={}, id='fa81f778-6919-4926-b5e9-615d61fd07c5'),\n",
       " AIMessage(content='你好，陈明！确实好久不见了，最近过得怎么样？有什么我可以帮你的吗？', additional_kwargs={'refusal': None}, response_metadata={'token_usage': {'completion_tokens': 19, 'prompt_tokens': 225, 'total_tokens': 244, 'completion_tokens_details': None, 'prompt_tokens_details': {'audio_tokens': None, 'cached_tokens': 192}, 'prompt_cache_hit_tokens': 192, 'prompt_cache_miss_tokens': 33}, 'model_name': 'deepseek-chat', 'system_fingerprint': 'fp_8802369eaa_prod0623_fp8_kvcache', 'id': '9d30ac34-3336-4a70-8630-5f0fc6a4d883', 'service_tier': None, 'finish_reason': 'stop', 'logprobs': None}, id='run--53fca4b5-20e5-4f3e-bc98-4cd636091c4c-0', usage_metadata={'input_tokens': 225, 'output_tokens': 19, 'total_tokens': 244, 'input_token_details': {'cache_read': 192}, 'output_token_details': {}})]"
      ]
     },
     "execution_count": 28,
     "metadata": {},
     "output_type": "execute_result"
    }
   ],
   "source": [
    "config = {\n",
    "    \"configurable\": {\n",
    "        \"thread_id\": \"1\"  \n",
    "    }\n",
    "}\n",
    "\n",
    "response = agent.invoke(\n",
    "    {\"messages\": [{\"role\": \"user\", \"content\": \"你好，我叫陈明，好久不见！\"}]},\n",
    "    config\n",
    ")\n",
    "\n",
    "response['messages']\n"
   ]
  },
  {
   "cell_type": "code",
   "execution_count": 29,
   "metadata": {},
   "outputs": [
    {
     "data": {
      "text/plain": [
       "'你好，陈明！确实好久不见了，最近过得怎么样？有什么我可以帮你的吗？'"
      ]
     },
     "execution_count": 29,
     "metadata": {},
     "output_type": "execute_result"
    }
   ],
   "source": [
    "response['messages'][-1].content"
   ]
  },
  {
   "cell_type": "code",
   "execution_count": 30,
   "metadata": {},
   "outputs": [
    {
     "data": {
      "text/plain": [
       "StateSnapshot(values={'messages': [HumanMessage(content='你好，我叫陈明，好久不见！', additional_kwargs={}, response_metadata={}, id='fa81f778-6919-4926-b5e9-615d61fd07c5'), AIMessage(content='你好，陈明！确实好久不见了，最近过得怎么样？有什么我可以帮你的吗？', additional_kwargs={'refusal': None}, response_metadata={'token_usage': {'completion_tokens': 19, 'prompt_tokens': 225, 'total_tokens': 244, 'completion_tokens_details': None, 'prompt_tokens_details': {'audio_tokens': None, 'cached_tokens': 192}, 'prompt_cache_hit_tokens': 192, 'prompt_cache_miss_tokens': 33}, 'model_name': 'deepseek-chat', 'system_fingerprint': 'fp_8802369eaa_prod0623_fp8_kvcache', 'id': '9d30ac34-3336-4a70-8630-5f0fc6a4d883', 'service_tier': None, 'finish_reason': 'stop', 'logprobs': None}, id='run--53fca4b5-20e5-4f3e-bc98-4cd636091c4c-0', usage_metadata={'input_tokens': 225, 'output_tokens': 19, 'total_tokens': 244, 'input_token_details': {'cache_read': 192}, 'output_token_details': {}})]}, next=(), config={'configurable': {'thread_id': '1', 'checkpoint_ns': '', 'checkpoint_id': '1f06d2a0-6130-6956-8001-0b5cf4e57808'}}, metadata={'source': 'loop', 'step': 1, 'parents': {}}, created_at='2025-07-30T09:46:10.644981+00:00', parent_config={'configurable': {'thread_id': '1', 'checkpoint_ns': '', 'checkpoint_id': '1f06d2a0-0de8-6654-8000-3b17b393486e'}}, tasks=(), interrupts=())"
      ]
     },
     "execution_count": 30,
     "metadata": {},
     "output_type": "execute_result"
    }
   ],
   "source": [
    "latest = agent.get_state(config)\n",
    "latest"
   ]
  },
  {
   "cell_type": "code",
   "execution_count": 31,
   "metadata": {},
   "outputs": [
    {
     "ename": "NameError",
     "evalue": "name 'StateSnapshot' is not defined",
     "output_type": "error",
     "traceback": [
      "\u001b[31m---------------------------------------------------------------------------\u001b[39m",
      "\u001b[31mNameError\u001b[39m                                 Traceback (most recent call last)",
      "\u001b[36mCell\u001b[39m\u001b[36m \u001b[39m\u001b[32mIn[31]\u001b[39m\u001b[32m, line 1\u001b[39m\n\u001b[32m----> \u001b[39m\u001b[32m1\u001b[39m \u001b[43mStateSnapshot\u001b[49m(values={\u001b[33m'\u001b[39m\u001b[33mmessages\u001b[39m\u001b[33m'\u001b[39m: [HumanMessage(content=\u001b[33m'\u001b[39m\u001b[33m你好，我叫陈明，好久不见！\u001b[39m\u001b[33m'\u001b[39m, additional_kwargs={}, response_metadata={}, \u001b[38;5;28mid\u001b[39m=\u001b[33m'\u001b[39m\u001b[33m99a94aaa-c095-43db-a944-72b80b97ef4d\u001b[39m\u001b[33m'\u001b[39m), AIMessage(content=\u001b[33m'\u001b[39m\u001b[33m你好，陈明！确实好久不见了，最近过得怎么样？有什么我可以帮你的吗？\u001b[39m\u001b[33m'\u001b[39m, additional_kwargs={\u001b[33m'\u001b[39m\u001b[33mrefusal\u001b[39m\u001b[33m'\u001b[39m: \u001b[38;5;28;01mNone\u001b[39;00m}, response_metadata={\u001b[33m'\u001b[39m\u001b[33mtoken_usage\u001b[39m\u001b[33m'\u001b[39m: {\u001b[33m'\u001b[39m\u001b[33mcompletion_tokens\u001b[39m\u001b[33m'\u001b[39m: \u001b[32m19\u001b[39m, \u001b[33m'\u001b[39m\u001b[33mprompt_tokens\u001b[39m\u001b[33m'\u001b[39m: \u001b[32m225\u001b[39m, \u001b[33m'\u001b[39m\u001b[33mtotal_tokens\u001b[39m\u001b[33m'\u001b[39m: \u001b[32m244\u001b[39m, \u001b[33m'\u001b[39m\u001b[33mcompletion_tokens_details\u001b[39m\u001b[33m'\u001b[39m: \u001b[38;5;28;01mNone\u001b[39;00m, \u001b[33m'\u001b[39m\u001b[33mprompt_tokens_details\u001b[39m\u001b[33m'\u001b[39m: {\u001b[33m'\u001b[39m\u001b[33maudio_tokens\u001b[39m\u001b[33m'\u001b[39m: \u001b[38;5;28;01mNone\u001b[39;00m, \u001b[33m'\u001b[39m\u001b[33mcached_tokens\u001b[39m\u001b[33m'\u001b[39m: \u001b[32m192\u001b[39m}, \u001b[33m'\u001b[39m\u001b[33mprompt_cache_hit_tokens\u001b[39m\u001b[33m'\u001b[39m: \u001b[32m192\u001b[39m, \u001b[33m'\u001b[39m\u001b[33mprompt_cache_miss_tokens\u001b[39m\u001b[33m'\u001b[39m: \u001b[32m33\u001b[39m}, \u001b[33m'\u001b[39m\u001b[33mmodel_name\u001b[39m\u001b[33m'\u001b[39m: \u001b[33m'\u001b[39m\u001b[33mdeepseek-chat\u001b[39m\u001b[33m'\u001b[39m, \u001b[33m'\u001b[39m\u001b[33msystem_fingerprint\u001b[39m\u001b[33m'\u001b[39m: \u001b[33m'\u001b[39m\u001b[33mfp_8802369eaa_prod0623_fp8_kvcache\u001b[39m\u001b[33m'\u001b[39m, \u001b[33m'\u001b[39m\u001b[33mid\u001b[39m\u001b[33m'\u001b[39m: \u001b[33m'\u001b[39m\u001b[33ma07cc5e0-069f-4a24-9786-691fb6232064\u001b[39m\u001b[33m'\u001b[39m, \u001b[33m'\u001b[39m\u001b[33mservice_tier\u001b[39m\u001b[33m'\u001b[39m: \u001b[38;5;28;01mNone\u001b[39;00m, \u001b[33m'\u001b[39m\u001b[33mfinish_reason\u001b[39m\u001b[33m'\u001b[39m: \u001b[33m'\u001b[39m\u001b[33mstop\u001b[39m\u001b[33m'\u001b[39m, \u001b[33m'\u001b[39m\u001b[33mlogprobs\u001b[39m\u001b[33m'\u001b[39m: \u001b[38;5;28;01mNone\u001b[39;00m}, \u001b[38;5;28mid\u001b[39m=\u001b[33m'\u001b[39m\u001b[33mrun--d36d9cf7-322f-41f2-a4c6-90a8628e771b-0\u001b[39m\u001b[33m'\u001b[39m, usage_metadata={\u001b[33m'\u001b[39m\u001b[33minput_tokens\u001b[39m\u001b[33m'\u001b[39m: \u001b[32m225\u001b[39m, \u001b[33m'\u001b[39m\u001b[33moutput_tokens\u001b[39m\u001b[33m'\u001b[39m: \u001b[32m19\u001b[39m, \u001b[33m'\u001b[39m\u001b[33mtotal_tokens\u001b[39m\u001b[33m'\u001b[39m: \u001b[32m244\u001b[39m, \u001b[33m'\u001b[39m\u001b[33minput_token_details\u001b[39m\u001b[33m'\u001b[39m: {\u001b[33m'\u001b[39m\u001b[33mcache_read\u001b[39m\u001b[33m'\u001b[39m: \u001b[32m192\u001b[39m}, \u001b[33m'\u001b[39m\u001b[33moutput_token_details\u001b[39m\u001b[33m'\u001b[39m: {}})]}, \u001b[38;5;28mnext\u001b[39m=(), config={\u001b[33m'\u001b[39m\u001b[33mconfigurable\u001b[39m\u001b[33m'\u001b[39m: {\u001b[33m'\u001b[39m\u001b[33mthread_id\u001b[39m\u001b[33m'\u001b[39m: \u001b[33m'\u001b[39m\u001b[33m1\u001b[39m\u001b[33m'\u001b[39m, \u001b[33m'\u001b[39m\u001b[33mcheckpoint_ns\u001b[39m\u001b[33m'\u001b[39m: \u001b[33m'\u001b[39m\u001b[33m'\u001b[39m, \u001b[33m'\u001b[39m\u001b[33mcheckpoint_id\u001b[39m\u001b[33m'\u001b[39m: \u001b[33m'\u001b[39m\u001b[33m1f052786-1f80-61ea-8001-0e4e6e89a399\u001b[39m\u001b[33m'\u001b[39m}}, metadata={\u001b[33m'\u001b[39m\u001b[33msource\u001b[39m\u001b[33m'\u001b[39m: \u001b[33m'\u001b[39m\u001b[33mloop\u001b[39m\u001b[33m'\u001b[39m, \u001b[33m'\u001b[39m\u001b[33mwrites\u001b[39m\u001b[33m'\u001b[39m: {\u001b[33m'\u001b[39m\u001b[33magent\u001b[39m\u001b[33m'\u001b[39m: {\u001b[33m'\u001b[39m\u001b[33mmessages\u001b[39m\u001b[33m'\u001b[39m: [AIMessage(content=\u001b[33m'\u001b[39m\u001b[33m你好，陈明！确实好久不见了，最近过得怎么样？有什么我可以帮你的吗？\u001b[39m\u001b[33m'\u001b[39m, additional_kwargs={\u001b[33m'\u001b[39m\u001b[33mrefusal\u001b[39m\u001b[33m'\u001b[39m: \u001b[38;5;28;01mNone\u001b[39;00m}, response_metadata={\u001b[33m'\u001b[39m\u001b[33mtoken_usage\u001b[39m\u001b[33m'\u001b[39m: {\u001b[33m'\u001b[39m\u001b[33mcompletion_tokens\u001b[39m\u001b[33m'\u001b[39m: \u001b[32m19\u001b[39m, \u001b[33m'\u001b[39m\u001b[33mprompt_tokens\u001b[39m\u001b[33m'\u001b[39m: \u001b[32m225\u001b[39m, \u001b[33m'\u001b[39m\u001b[33mtotal_tokens\u001b[39m\u001b[33m'\u001b[39m: \u001b[32m244\u001b[39m, \u001b[33m'\u001b[39m\u001b[33mcompletion_tokens_details\u001b[39m\u001b[33m'\u001b[39m: \u001b[38;5;28;01mNone\u001b[39;00m, \u001b[33m'\u001b[39m\u001b[33mprompt_tokens_details\u001b[39m\u001b[33m'\u001b[39m: {\u001b[33m'\u001b[39m\u001b[33maudio_tokens\u001b[39m\u001b[33m'\u001b[39m: \u001b[38;5;28;01mNone\u001b[39;00m, \u001b[33m'\u001b[39m\u001b[33mcached_tokens\u001b[39m\u001b[33m'\u001b[39m: \u001b[32m192\u001b[39m}, \u001b[33m'\u001b[39m\u001b[33mprompt_cache_hit_tokens\u001b[39m\u001b[33m'\u001b[39m: \u001b[32m192\u001b[39m, \u001b[33m'\u001b[39m\u001b[33mprompt_cache_miss_tokens\u001b[39m\u001b[33m'\u001b[39m: \u001b[32m33\u001b[39m}, \u001b[33m'\u001b[39m\u001b[33mmodel_name\u001b[39m\u001b[33m'\u001b[39m: \u001b[33m'\u001b[39m\u001b[33mdeepseek-chat\u001b[39m\u001b[33m'\u001b[39m, \u001b[33m'\u001b[39m\u001b[33msystem_fingerprint\u001b[39m\u001b[33m'\u001b[39m: \u001b[33m'\u001b[39m\u001b[33mfp_8802369eaa_prod0623_fp8_kvcache\u001b[39m\u001b[33m'\u001b[39m, \u001b[33m'\u001b[39m\u001b[33mid\u001b[39m\u001b[33m'\u001b[39m: \u001b[33m'\u001b[39m\u001b[33ma07cc5e0-069f-4a24-9786-691fb6232064\u001b[39m\u001b[33m'\u001b[39m, \u001b[33m'\u001b[39m\u001b[33mservice_tier\u001b[39m\u001b[33m'\u001b[39m: \u001b[38;5;28;01mNone\u001b[39;00m, \u001b[33m'\u001b[39m\u001b[33mfinish_reason\u001b[39m\u001b[33m'\u001b[39m: \u001b[33m'\u001b[39m\u001b[33mstop\u001b[39m\u001b[33m'\u001b[39m, \u001b[33m'\u001b[39m\u001b[33mlogprobs\u001b[39m\u001b[33m'\u001b[39m: \u001b[38;5;28;01mNone\u001b[39;00m}, \u001b[38;5;28mid\u001b[39m=\u001b[33m'\u001b[39m\u001b[33mrun--d36d9cf7-322f-41f2-a4c6-90a8628e771b-0\u001b[39m\u001b[33m'\u001b[39m, usage_metadata={\u001b[33m'\u001b[39m\u001b[33minput_tokens\u001b[39m\u001b[33m'\u001b[39m: \u001b[32m225\u001b[39m, \u001b[33m'\u001b[39m\u001b[33moutput_tokens\u001b[39m\u001b[33m'\u001b[39m: \u001b[32m19\u001b[39m, \u001b[33m'\u001b[39m\u001b[33mtotal_tokens\u001b[39m\u001b[33m'\u001b[39m: \u001b[32m244\u001b[39m, \u001b[33m'\u001b[39m\u001b[33minput_token_details\u001b[39m\u001b[33m'\u001b[39m: {\u001b[33m'\u001b[39m\u001b[33mcache_read\u001b[39m\u001b[33m'\u001b[39m: \u001b[32m192\u001b[39m}, \u001b[33m'\u001b[39m\u001b[33moutput_token_details\u001b[39m\u001b[33m'\u001b[39m: {}})]}}, \u001b[33m'\u001b[39m\u001b[33mstep\u001b[39m\u001b[33m'\u001b[39m: \u001b[32m1\u001b[39m, \u001b[33m'\u001b[39m\u001b[33mparents\u001b[39m\u001b[33m'\u001b[39m: {}, \u001b[33m'\u001b[39m\u001b[33mthread_id\u001b[39m\u001b[33m'\u001b[39m: \u001b[33m'\u001b[39m\u001b[33m1\u001b[39m\u001b[33m'\u001b[39m}, created_at=\u001b[33m'\u001b[39m\u001b[33m2025-06-26T10:29:04.168150+00:00\u001b[39m\u001b[33m'\u001b[39m, parent_config={\u001b[33m'\u001b[39m\u001b[33mconfigurable\u001b[39m\u001b[33m'\u001b[39m: {\u001b[33m'\u001b[39m\u001b[33mthread_id\u001b[39m\u001b[33m'\u001b[39m: \u001b[33m'\u001b[39m\u001b[33m1\u001b[39m\u001b[33m'\u001b[39m, \u001b[33m'\u001b[39m\u001b[33mcheckpoint_ns\u001b[39m\u001b[33m'\u001b[39m: \u001b[33m'\u001b[39m\u001b[33m'\u001b[39m, \u001b[33m'\u001b[39m\u001b[33mcheckpoint_id\u001b[39m\u001b[33m'\u001b[39m: \u001b[33m'\u001b[39m\u001b[33m1f052785-f961-6dfd-8000-721e9cd1348b\u001b[39m\u001b[33m'\u001b[39m}}, tasks=(), interrupts=())\n",
      "\u001b[31mNameError\u001b[39m: name 'StateSnapshot' is not defined"
     ]
    }
   ],
   "source": [
    "config2 = {\n",
    "    \"configurable\": {\n",
    "        \"thread_id\": \"2\"  \n",
    "    }\n",
    "}\n",
    "\n",
    "response2 = agent.invoke(\n",
    "    {\"messages\": [{\"role\": \"user\", \"content\": \"你好，你还记得我叫什么名字么？\"}]},\n",
    "    config2\n",
    ")"
   ]
  }
 ],
 "metadata": {
  "kernelspec": {
   "display_name": ".venv",
   "language": "python",
   "name": "python3"
  },
  "language_info": {
   "codemirror_mode": {
    "name": "ipython",
    "version": 3
   },
   "file_extension": ".py",
   "mimetype": "text/x-python",
   "name": "python",
   "nbconvert_exporter": "python",
   "pygments_lexer": "ipython3",
   "version": "3.13.5"
  }
 },
 "nbformat": 4,
 "nbformat_minor": 2
}
